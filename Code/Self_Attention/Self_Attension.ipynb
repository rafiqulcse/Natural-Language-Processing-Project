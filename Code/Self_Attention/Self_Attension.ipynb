{
  "cells": [
    {
      "cell_type": "markdown",
      "metadata": {
        "colab_type": "text",
        "id": "view-in-github"
      },
      "source": [
        "<a href=\"https://colab.research.google.com/github/rafiqulcse/Natural-Language-Processing-Project/blob/main/Self_Attension.ipynb\" target=\"_parent\"><img src=\"https://colab.research.google.com/assets/colab-badge.svg\" alt=\"Open In Colab\"/></a>"
      ]
    },
    {
      "cell_type": "code",
      "execution_count": null,
      "metadata": {},
      "outputs": [],
      "source": [
        "# Google Colab Link: https://colab.research.google.com/drive/18OJ6eX5sS9EBO9tVAIMkjk6geQYxsnXs?usp=sharing"
      ]
    },
    {
      "cell_type": "code",
      "execution_count": null,
      "metadata": {
        "id": "TuL2qpV5mKc8"
      },
      "outputs": [],
      "source": [
        "import numpy as np\n",
        "from scipy.special import softmax"
      ]
    },
    {
      "cell_type": "code",
      "execution_count": null,
      "metadata": {
        "id": "P6Em-WfrmQKD"
      },
      "outputs": [],
      "source": [
        "def scaled_dot_product_attention(Q, K, V, mask=None):\n",
        "    \"\"\"\n",
        "    Scaled Dot-Product Attention.\n",
        "\n",
        "    Args:\n",
        "        Q (np.ndarray): Query matrix of shape (batch_size, seq_length_q, d_model).\n",
        "        K (np.ndarray): Key matrix of shape (batch_size, seq_length_k, d_model).\n",
        "        V (np.ndarray): Value matrix of shape (batch_size, seq_length_v, d_model).\n",
        "        mask (np.ndarray or None): Mask to indicate which positions should be masked (e.g., padding tokens).\n",
        "\n",
        "    Returns:\n",
        "        output (np.ndarray): Output of scaled dot-product attention.\n",
        "        attention_weights (np.ndarray): Attention weights.\n",
        "    \"\"\"\n",
        "    # Compute the dot product of Q and K.\n",
        "    matmul_qk = np.matmul(Q, K.transpose(0, 2, 1))\n",
        "\n",
        "    # Scale the dot product to avoid overly large gradients.\n",
        "    d_k = K.shape[-1]\n",
        "    scaled_attention_logits = matmul_qk / np.sqrt(d_k)\n",
        "\n",
        "    # Apply the mask to the scaled attention logits if provided.\n",
        "    if mask is not None:\n",
        "        scaled_attention_logits += (mask * -1e9)\n",
        "\n",
        "    # Compute the attention weights using softmax.\n",
        "    attention_weights = softmax(scaled_attention_logits, axis=-1)\n",
        "\n",
        "    # Use the attention weights to weight the V matrix.\n",
        "    output = np.matmul(attention_weights, V)\n",
        "\n",
        "    return output, attention_weights"
      ]
    },
    {
      "cell_type": "code",
      "execution_count": null,
      "metadata": {
        "id": "JJhsJ7ArmQM3"
      },
      "outputs": [],
      "source": [
        "# Example usage:\n",
        "# Assume Q, K, and V are random matrices.\n",
        "batch_size, seq_length, d_model = 2, 4, 64\n",
        "Q = np.random.rand(batch_size, seq_length, d_model)\n",
        "K = np.random.rand(batch_size, seq_length, d_model)\n",
        "V = np.random.rand(batch_size, seq_length, d_model)"
      ]
    },
    {
      "cell_type": "code",
      "execution_count": null,
      "metadata": {
        "colab": {
          "base_uri": "https://localhost:8080/"
        },
        "id": "hGbko1KJmQPE",
        "outputId": "a447225e-11a9-43e7-a676-f319ad21ab11"
      },
      "outputs": [
        {
          "name": "stdout",
          "output_type": "stream",
          "text": [
            "Output shape: (2, 4, 64)\n",
            "Attention weights shape: (2, 4, 4)\n"
          ]
        }
      ],
      "source": [
        "# Calculate self-attention\n",
        "output, attention_weights = scaled_dot_product_attention(Q, K, V)\n",
        "print(\"Output shape:\", output.shape)\n",
        "print(\"Attention weights shape:\", attention_weights.shape)"
      ]
    }
  ],
  "metadata": {
    "colab": {
      "authorship_tag": "ABX9TyNwWft4cfWW0wMOhcqwtcdX",
      "include_colab_link": true,
      "provenance": []
    },
    "kernelspec": {
      "display_name": "Python 3",
      "name": "python3"
    },
    "language_info": {
      "name": "python"
    }
  },
  "nbformat": 4,
  "nbformat_minor": 0
}
